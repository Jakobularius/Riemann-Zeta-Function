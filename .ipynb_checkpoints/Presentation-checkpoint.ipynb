{
 "metadata": {
  "name": ""
 },
 "nbformat": 3,
 "nbformat_minor": 0,
 "worksheets": [
  {
   "cells": [
    {
     "cell_type": "code",
     "collapsed": false,
     "input": [
      "import numpy as np\n",
      "import pandas as pd\n",
      "from decimal import *\n",
      "import csv\n",
      "import urllib"
     ],
     "language": "python",
     "metadata": {},
     "outputs": [],
     "prompt_number": 2
    },
    {
     "cell_type": "heading",
     "level": 1,
     "metadata": {},
     "source": [
      "The Riemann Zeta Function"
     ]
    },
    {
     "cell_type": "markdown",
     "metadata": {},
     "source": [
      "$\\displaystyle \\zeta (s) = \\sum_{n=1}^\\infty\\frac{1}{n^s}$"
     ]
    },
    {
     "cell_type": "markdown",
     "metadata": {},
     "source": [
      "For even powers, $\\zeta$ has the closed form solution,\n",
      "\n",
      "$$ \\zeta (2k) = \\sum_{n=1}^{\\infty} \\frac{1}{n^{2k}} = (-1)^{k+1} \\frac{(2\\pi )^{2k}}{2(2k)!}B_{2k}$$\n",
      "\n",
      "where $B_{2k}$ is the $2k^{th}$ Bernoulli Number. "
     ]
    },
    {
     "cell_type": "markdown",
     "metadata": {},
     "source": [
      "First, let's try a brute force calculation of $\\zeta (3)$. "
     ]
    },
    {
     "cell_type": "code",
     "collapsed": false,
     "input": [
      "def brute_force(s,n):\n",
      "    getcontext().prec=64\n",
      "    z=Decimal(0)\n",
      "    for i in range(1,n+1):\n",
      "        z+= Decimal(1)/Decimal(i)**s\n",
      "    return z"
     ],
     "language": "python",
     "metadata": {},
     "outputs": [],
     "prompt_number": 3
    },
    {
     "cell_type": "code",
     "collapsed": false,
     "input": [
      "print brute_force(3,10)"
     ],
     "language": "python",
     "metadata": {},
     "outputs": [
      {
       "output_type": "stream",
       "stream": "stdout",
       "text": [
        "1.197531985674193251668686286978048126952132998996188716521293997\n"
       ]
      }
     ],
     "prompt_number": 4
    },
    {
     "cell_type": "markdown",
     "metadata": {},
     "source": [
      "Using brute force, we calculated the first 1,000,000 iterations of the summation:\n",
      "\n",
      "1.202056903159 094285899737911511449990848319625673748881792271222"
     ]
    },
    {
     "cell_type": "markdown",
     "metadata": {},
     "source": [
      "Alternatively, we can use the Euler equality, \n",
      "\n",
      "$$ \\sum_{n\\geq 1} n^{-s} = \\prod_p (1-p^{-s})^{-1} $$ where $s$ is fixed, and $|\\mathscr{R}(s)| >1$ and $p$ iterates over the primes. Thus, to do this calculation we need to generate an arbitrarily large list of prime numbers to iterate over. "
     ]
    },
    {
     "cell_type": "markdown",
     "metadata": {},
     "source": [
      "Proof: First note the equations\n",
      "\n",
      "$$\\zeta(s) = 1+\\frac{1}{2^{s}}+\\frac{1}{3^{s}}+\\frac{1}{4^{s}}+\\cdot\\cdot\\cdot$$\n",
      "\n",
      "$$\\frac{1}{2^{s}}\\zeta(s) = \\frac{1}{2^{s}}+\\frac{1}{4^{s}}+\\frac{1}{6^{s}}+\\frac{1}{8^{s}}+\\cdot\\cdot\\cdot$$\n",
      "\n",
      "Then substracting the second equation from the first we remove all elements with a factor of 2 and have the sum\n",
      "\n",
      "$$\\left(1-\\frac{1}{2^{s}}\\right)\\zeta(s) = 1+\\frac{1}{3^{s}}+\\frac{1}{5^{s}}+\\frac{1}{7^{s}}+\\cdot\\cdot\\cdot$$\n",
      "\n",
      "We repeat this for the next term:\n",
      "\n",
      "$$\\frac{1}{3^{s}}\\left(1-\\frac{1}{2^{s}}\\right)\\zeta(s) = \\frac{1}{3^{s}}+\\frac{1}{9^{s}}+\\frac{1}{15^{s}}+\\frac{1}{21^{s}}\\cdot\\cdot\\cdot$$\n",
      "\n",
      "We subtract again to get:\n",
      "\n",
      "$$\\left(1-\\frac{1}{3^{s}}\\right)\\left(1-\\frac{1}{2^{s}}\\right)\\zeta(s) = 1+\\frac{1}{5^{s}}+\\frac{1}{7^{s}}+\\frac{1}{11^{s}}+\\cdot\\cdot\\cdot$$\n",
      "\n",
      "Now we continue this for all natural numbers in a process known as seiving. The result is\n",
      "\n",
      "$$\\cdot\\cdot\\cdot\\left(1-\\frac{1}{7^{s}}\\right) \\left(1-\\frac{1}{5^{s}}\\right)\\left(1-\\frac{1}{3^{s}}\\right)\\left(1-\\frac{1}{2^{s}}\\right)\\zeta(s)=1 $$\n",
      "\n",
      "Then dividing by both sides yields the identity\n",
      "\n",
      "$$\\zeta(s) = \\prod_{p\\, prime}\\left(1-\\frac{1}{p^{s}}\\right)^{-1}$$\n",
      "\n",
      "$$\\zeta(s) = \\prod_{p\\, prime}\\frac{1}{1-p^{-s}}$$ "
     ]
    },
    {
     "cell_type": "markdown",
     "metadata": {},
     "source": [
      "Corollary: By using the value of $\\zeta(1)$, we see that there are infinitely many prime numbers since $\\zeta(1)$ is equivalent to the harmonic (divergent) series."
     ]
    },
    {
     "cell_type": "code",
     "collapsed": true,
     "input": [
      "def prime_numbers(n):\n",
      "    primes=np.zeros_like(np.arange(n))\n",
      "    primes[0]=2\n",
      "    i=3\n",
      "    counter=1\n",
      "    while primes[-1]==0:\n",
      "        for num in primes:\n",
      "            if num>(int(np.sqrt(i))+1) or num==0:\n",
      "                primes[counter]=i\n",
      "                counter+=1\n",
      "                i+=1\n",
      "                break\n",
      "            elif (i%num)==0:\n",
      "                break\n",
      "        i+=1\n",
      "    numbers=pd.DataFrame(primes, index=np.arange(1,n+1), columns=['Primes'])\n",
      "    #this exports the results to a txt file for later use.\n",
      "    numbers.to_csv('ipnb.txt',header=False ,index=False)\n",
      "    return numbers"
     ],
     "language": "python",
     "metadata": {},
     "outputs": [],
     "prompt_number": 5
    },
    {
     "cell_type": "code",
     "collapsed": true,
     "input": [
      "print prime_numbers(100)"
     ],
     "language": "python",
     "metadata": {},
     "outputs": [
      {
       "output_type": "stream",
       "stream": "stdout",
       "text": [
        "     Primes\n",
        "1         2\n",
        "2         3\n",
        "3         5\n",
        "4         7\n",
        "5        11\n",
        "6        13\n",
        "7        17\n",
        "8        19\n",
        "9        23\n",
        "10       29\n",
        "11       31\n",
        "12       37\n",
        "13       41\n",
        "14       43\n",
        "15       47\n",
        "16       53\n",
        "17       59\n",
        "18       61\n",
        "19       67\n",
        "20       71\n",
        "21       73\n",
        "22       79\n",
        "23       83\n",
        "24       89\n",
        "25       97\n",
        "26      101\n",
        "27      103\n",
        "28      107\n",
        "29      109\n",
        "30      113\n",
        "31      127\n",
        "32      131\n",
        "33      137\n",
        "34      139\n",
        "35      149\n",
        "36      151\n",
        "37      157\n",
        "38      163\n",
        "39      167\n",
        "40      173\n",
        "41      179\n",
        "42      181\n",
        "43      191\n",
        "44      193\n",
        "45      197\n",
        "46      199\n",
        "47      211\n",
        "48      223\n",
        "49      227\n",
        "50      229\n",
        "51      233\n",
        "52      239\n",
        "53      241\n",
        "54      251\n",
        "55      257\n",
        "56      263\n",
        "57      269\n",
        "58      271\n",
        "59      277\n",
        "60      281\n",
        "61      283\n",
        "62      293\n",
        "63      307\n",
        "64      311\n",
        "65      313\n",
        "66      317\n",
        "67      331\n",
        "68      337\n",
        "69      347\n",
        "70      349\n",
        "71      353\n",
        "72      359\n",
        "73      367\n",
        "74      373\n",
        "75      379\n",
        "76      383\n",
        "77      389\n",
        "78      397\n",
        "79      401\n",
        "80      409\n",
        "81      419\n",
        "82      421\n",
        "83      431\n",
        "84      433\n",
        "85      439\n",
        "86      443\n",
        "87      449\n",
        "88      457\n",
        "89      461\n",
        "90      463\n",
        "91      467\n",
        "92      479\n",
        "93      487\n",
        "94      491\n",
        "95      499\n",
        "96      503\n",
        "97      509\n",
        "98      521\n",
        "99      523\n",
        "100     541\n"
       ]
      }
     ],
     "prompt_number": 6
    },
    {
     "cell_type": "markdown",
     "metadata": {},
     "source": [
      "We used this technique to generate the first 1,000,000 prime numbers. We will not demonstarte this calculation now, as it took 7.157 hours to complete. Below is a link to resulting list. "
     ]
    },
    {
     "cell_type": "markdown",
     "metadata": {},
     "source": [
      "https://raw.github.com/awiede/zeta_tsc/master/million_primes.txt"
     ]
    },
    {
     "cell_type": "markdown",
     "metadata": {},
     "source": [
      "Using this list, we can run a calculation using Euler's equality:"
     ]
    },
    {
     "cell_type": "code",
     "collapsed": true,
     "input": [
      "def eu_iden(s, data='ipnb.txt'):\n",
      "    primes =open(data,'r')\n",
      "    prod=1\n",
      "    getcontext().prec=64\n",
      "    for p in primes:\n",
      "        p=Decimal(p)\n",
      "        prod*=(Decimal(1)-(Decimal(1)/p**s))**(-1)\n",
      "    primes.close()\n",
      "    return prod"
     ],
     "language": "python",
     "metadata": {},
     "outputs": [],
     "prompt_number": 7
    },
    {
     "cell_type": "code",
     "collapsed": true,
     "input": [
      "print eu_iden(3)"
     ],
     "language": "python",
     "metadata": {},
     "outputs": [
      {
       "output_type": "stream",
       "stream": "stdout",
       "text": [
        "1.202056602179508017539330628152374437066657333208169515470845739\n"
       ]
      }
     ],
     "prompt_number": 8
    },
    {
     "cell_type": "markdown",
     "metadata": {},
     "source": [
      "Using our list of 1,000,000 prime numbers, we have result: 1.202056903159594 138313388959529919855966667293515320127109592847"
     ]
    },
    {
     "cell_type": "heading",
     "level": 3,
     "metadata": {},
     "source": [
      "Upper and lower bounds on $\\zeta(3)$"
     ]
    },
    {
     "cell_type": "markdown",
     "metadata": {},
     "source": [
      "Thanks to Euler, we have closed form solutions for $\\zeta$ of even integers.\n",
      "\n",
      "$$ \\zeta (2)= \\frac{\\pi ^2}{6} \\approx 1.6449340668482264364724151666460251892189499012067984 $$\n",
      "\n",
      "$$ \\zeta (4) = \\frac{\\pi ^4}{90} \\approx 1.0823232337111381915160036965411679027747509519187269 $$"
     ]
    },
    {
     "cell_type": "markdown",
     "metadata": {},
     "source": [
      "Proposition: For $s \\geq2$, $ \\zeta(s+2) < \\zeta(s+1) < \\zeta(s)$\n",
      "\n",
      "Proof: By using the comparison test for each term, $n>1$, and noting that \n",
      "\n",
      "$$ (n+2)^{-s} < (n+1)^{-s} < n^{-s}$$ \n",
      "\n",
      "then \n",
      "\n",
      "$$ \\zeta(s+2)<\\zeta(s+1)<\\zeta(s) $$\n"
     ]
    }
   ],
   "metadata": {}
  }
 ]
}